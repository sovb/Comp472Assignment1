{
 "cells": [
  {
   "cell_type": "code",
   "execution_count": 1,
   "source": [
    "import os\r\n",
    "import pandas as pd \r\n",
    "import numpy as np\r\n",
    "import seaborn as sns\r\n",
    "sns.set_style('whitegrid')\r\n",
    "import matplotlib.pyplot as plt"
   ],
   "outputs": [],
   "metadata": {}
  },
  {
   "cell_type": "code",
   "execution_count": 2,
   "source": [
    "data = pd.read_csv('Final_data.csv', encoding='latin')"
   ],
   "outputs": [],
   "metadata": {}
  },
  {
   "cell_type": "code",
   "execution_count": 3,
   "source": [
    "data.head()"
   ],
   "outputs": [
    {
     "output_type": "execute_result",
     "data": {
      "text/html": [
       "<div>\n",
       "<style scoped>\n",
       "    .dataframe tbody tr th:only-of-type {\n",
       "        vertical-align: middle;\n",
       "    }\n",
       "\n",
       "    .dataframe tbody tr th {\n",
       "        vertical-align: top;\n",
       "    }\n",
       "\n",
       "    .dataframe thead th {\n",
       "        text-align: right;\n",
       "    }\n",
       "</style>\n",
       "<table border=\"1\" class=\"dataframe\">\n",
       "  <thead>\n",
       "    <tr style=\"text-align: right;\">\n",
       "      <th></th>\n",
       "      <th>Unnamed: 0</th>\n",
       "      <th>Title</th>\n",
       "      <th>Headline</th>\n",
       "      <th>Body</th>\n",
       "      <th>Combined</th>\n",
       "      <th>Label</th>\n",
       "    </tr>\n",
       "  </thead>\n",
       "  <tbody>\n",
       "    <tr>\n",
       "      <th>0</th>\n",
       "      <td>0</td>\n",
       "      <td>Farrell due to make US TV debut</td>\n",
       "      <td>Actor Colin Farrell is to make his debut on US...</td>\n",
       "      <td>The film star, who recently played the title r...</td>\n",
       "      <td>Farrell due to make US TV debut Actor Colin Fa...</td>\n",
       "      <td>entertainment</td>\n",
       "    </tr>\n",
       "    <tr>\n",
       "      <th>1</th>\n",
       "      <td>1</td>\n",
       "      <td>Souness eyes summer move for Owen</td>\n",
       "      <td>Newcastle boss Graeme Souness is lining up a s...</td>\n",
       "      <td>He sees Owen as the ideal replacement for Alan...</td>\n",
       "      <td>Souness eyes summer move for Owen Newcastle bo...</td>\n",
       "      <td>sport</td>\n",
       "    </tr>\n",
       "    <tr>\n",
       "      <th>2</th>\n",
       "      <td>2</td>\n",
       "      <td>Set your television to wow</td>\n",
       "      <td>Television started off as a magical blurry ima...</td>\n",
       "      <td>After years of buzz about high-definition TV (...</td>\n",
       "      <td>Set your television to wow Television started ...</td>\n",
       "      <td>tech</td>\n",
       "    </tr>\n",
       "    <tr>\n",
       "      <th>3</th>\n",
       "      <td>3</td>\n",
       "      <td>Lib Dems target the student vote</td>\n",
       "      <td>Students can decide the fate of MPs in some se...</td>\n",
       "      <td>The party says the votes of students can win i...</td>\n",
       "      <td>Lib Dems target the student vote Students can ...</td>\n",
       "      <td>politics</td>\n",
       "    </tr>\n",
       "    <tr>\n",
       "      <th>4</th>\n",
       "      <td>4</td>\n",
       "      <td>Hewitt overcomes wobble in Sydney</td>\n",
       "      <td>Lleyton Hewitt gave himself the perfect prepar...</td>\n",
       "      <td>The defending champion brushed aside the Czech...</td>\n",
       "      <td>Hewitt overcomes wobble in Sydney Lleyton Hewi...</td>\n",
       "      <td>sport</td>\n",
       "    </tr>\n",
       "  </tbody>\n",
       "</table>\n",
       "</div>"
      ],
      "text/plain": [
       "   Unnamed: 0                              Title  \\\n",
       "0           0    Farrell due to make US TV debut   \n",
       "1           1  Souness eyes summer move for Owen   \n",
       "2           2         Set your television to wow   \n",
       "3           3   Lib Dems target the student vote   \n",
       "4           4  Hewitt overcomes wobble in Sydney   \n",
       "\n",
       "                                            Headline  \\\n",
       "0  Actor Colin Farrell is to make his debut on US...   \n",
       "1  Newcastle boss Graeme Souness is lining up a s...   \n",
       "2  Television started off as a magical blurry ima...   \n",
       "3  Students can decide the fate of MPs in some se...   \n",
       "4  Lleyton Hewitt gave himself the perfect prepar...   \n",
       "\n",
       "                                                Body  \\\n",
       "0  The film star, who recently played the title r...   \n",
       "1  He sees Owen as the ideal replacement for Alan...   \n",
       "2  After years of buzz about high-definition TV (...   \n",
       "3  The party says the votes of students can win i...   \n",
       "4  The defending champion brushed aside the Czech...   \n",
       "\n",
       "                                            Combined          Label  \n",
       "0  Farrell due to make US TV debut Actor Colin Fa...  entertainment  \n",
       "1  Souness eyes summer move for Owen Newcastle bo...          sport  \n",
       "2  Set your television to wow Television started ...           tech  \n",
       "3  Lib Dems target the student vote Students can ...       politics  \n",
       "4  Hewitt overcomes wobble in Sydney Lleyton Hewi...          sport  "
      ]
     },
     "metadata": {},
     "execution_count": 3
    }
   ],
   "metadata": {}
  },
  {
   "cell_type": "markdown",
   "source": [
    "### Checking the Distribution of the Dataset"
   ],
   "metadata": {}
  },
  {
   "cell_type": "code",
   "execution_count": 4,
   "source": [
    "plt.figure(figsize=(12,7))\r\n",
    "\r\n",
    "plt.title(\"Distribution of Instances\",fontdict={'fontsize': 24, 'fontweight':'medium'})\r\n",
    "sns.countplot(data['Label'])\r\n",
    "# We can see that the data is balanced "
   ],
   "outputs": [
    {
     "output_type": "stream",
     "name": "stderr",
     "text": [
      "C:\\Python37\\lib\\site-packages\\seaborn\\_decorators.py:43: FutureWarning: Pass the following variable as a keyword arg: x. From version 0.12, the only valid positional argument will be `data`, and passing other arguments without an explicit keyword will result in an error or misinterpretation.\n",
      "  FutureWarning\n"
     ]
    },
    {
     "output_type": "execute_result",
     "data": {
      "text/plain": [
       "<AxesSubplot:title={'center':'Distribution of Instances'}, xlabel='Label', ylabel='count'>"
      ]
     },
     "metadata": {},
     "execution_count": 4
    },
    {
     "output_type": "display_data",
     "data": {
      "image/png": "[encoded data removed]",
      "text/plain": [
       "<Figure size 864x504 with 1 Axes>"
      ]
     },
     "metadata": {}
    }
   ],
   "metadata": {}
  },
  {
   "cell_type": "code",
   "execution_count": 5,
   "source": [
    "# data['Label'].value_counts()\r\n",
    "for x in list(data['Label'].value_counts()):\r\n",
    "    print(x/2225)"
   ],
   "outputs": [
    {
     "output_type": "stream",
     "name": "stdout",
     "text": [
      "0.22966292134831462\n",
      "0.2292134831460674\n",
      "0.18741573033707865\n",
      "0.1802247191011236\n",
      "0.17348314606741572\n"
     ]
    }
   ],
   "metadata": {}
  },
  {
   "cell_type": "code",
   "execution_count": 6,
   "source": [
    "from sklearn.preprocessing import LabelEncoder\r\n",
    "\r\n",
    "from sklearn.model_selection import train_test_split\r\n",
    "\r\n",
    "from sklearn.feature_extraction.text import CountVectorizer\r\n",
    "\r\n",
    "from sklearn.naive_bayes import MultinomialNB\r\n",
    "\r\n",
    "from sklearn.metrics import classification_report, f1_score, confusion_matrix, accuracy_score"
   ],
   "outputs": [],
   "metadata": {}
  },
  {
   "cell_type": "code",
   "execution_count": 7,
   "source": [
    "# We want to convert our labels to Numerical features so that our ML model can understant\r\n",
    "lb = LabelEncoder()\r\n",
    "data['N-labels'] = lb.fit_transform(data['Label'])"
   ],
   "outputs": [],
   "metadata": {}
  },
  {
   "cell_type": "code",
   "execution_count": 8,
   "source": [
    "# Our classes 0:business, 1:entertainment, 2:politics, 3:sport, 4:tech\r\n",
    "lb.classes_"
   ],
   "outputs": [
    {
     "output_type": "execute_result",
     "data": {
      "text/plain": [
       "array(['business', 'entertainment', 'politics', 'sport', 'tech'],\n",
       "      dtype=object)"
      ]
     },
     "metadata": {},
     "execution_count": 8
    }
   ],
   "metadata": {}
  },
  {
   "cell_type": "code",
   "execution_count": 88,
   "source": [
    "business = data[data['Label']=='business']\r\n",
    "entertainment = data[data['Label']=='entertainment']\r\n",
    "politics = data[data['Label']=='politics']\r\n",
    "sport = data[data['Label']=='sport']\r\n",
    "tech = data[data['Label']=='tech']\r\n",
    "\r\n",
    "def cv_class_wise(dataframe):\r\n",
    "    cv = CountVectorizer()\r\n",
    "    d = cv.fit_transform(dataframe['Combined'])\r\n",
    "    # print(d.shape[1])\r\n",
    "    complete_corpus = pd.DataFrame(d.A, columns=cv.get_feature_names())\r\n",
    "    complete_corpus['Number of Zeros'] = (complete_corpus==0).sum(axis=1)\r\n",
    "    complete_corpus['Number of Ones'] = (complete_corpus==1).sum(axis=1)\r\n",
    "    complete_corpus['Per of Zeros'] = (complete_corpus==0).sum(axis=1)/d.shape[1]\r\n",
    "    complete_corpus['Per of Ones'] = (complete_corpus==1).sum(axis=1)/d.shape[1]\r\n",
    "    number_of_0 = complete_corpus['Number of Zeros'].sum(axis=0)\r\n",
    "    number_of_1 = complete_corpus['Number of Ones'].sum(axis=0)\r\n",
    "\r\n",
    "    per_of_0 =  complete_corpus['Per of Zeros'].sum(axis = 0)/d.shape[0]\r\n",
    "    per_of_1 =  complete_corpus['Per of Ones'].sum(axis = 0)/d.shape[0]\r\n",
    "\r\n",
    "    \r\n",
    "\r\n",
    "    return {\r\n",
    "        \"Number of 0s\":number_of_0,\r\n",
    "        \"Number of 1s\":number_of_1,\r\n",
    "        \"Per of 0s\":f\"{per_of_0:.4}\",\r\n",
    "        \"Per of 1s\":f\"{per_of_1:.4}\",\r\n",
    "    }\r\n",
    "    \r\n",
    "    "
   ],
   "outputs": [],
   "metadata": {}
  },
  {
   "cell_type": "code",
   "execution_count": 89,
   "source": [
    "data.head()"
   ],
   "outputs": [
    {
     "output_type": "execute_result",
     "data": {
      "text/html": [
       "<div>\n",
       "<style scoped>\n",
       "    .dataframe tbody tr th:only-of-type {\n",
       "        vertical-align: middle;\n",
       "    }\n",
       "\n",
       "    .dataframe tbody tr th {\n",
       "        vertical-align: top;\n",
       "    }\n",
       "\n",
       "    .dataframe thead th {\n",
       "        text-align: right;\n",
       "    }\n",
       "</style>\n",
       "<table border=\"1\" class=\"dataframe\">\n",
       "  <thead>\n",
       "    <tr style=\"text-align: right;\">\n",
       "      <th></th>\n",
       "      <th>Unnamed: 0</th>\n",
       "      <th>Title</th>\n",
       "      <th>Headline</th>\n",
       "      <th>Body</th>\n",
       "      <th>Combined</th>\n",
       "      <th>Label</th>\n",
       "      <th>N-labels</th>\n",
       "    </tr>\n",
       "  </thead>\n",
       "  <tbody>\n",
       "    <tr>\n",
       "      <th>0</th>\n",
       "      <td>0</td>\n",
       "      <td>Farrell due to make US TV debut</td>\n",
       "      <td>Actor Colin Farrell is to make his debut on US...</td>\n",
       "      <td>The film star, who recently played the title r...</td>\n",
       "      <td>Farrell due to make US TV debut Actor Colin Fa...</td>\n",
       "      <td>entertainment</td>\n",
       "      <td>1</td>\n",
       "    </tr>\n",
       "    <tr>\n",
       "      <th>1</th>\n",
       "      <td>1</td>\n",
       "      <td>Souness eyes summer move for Owen</td>\n",
       "      <td>Newcastle boss Graeme Souness is lining up a s...</td>\n",
       "      <td>He sees Owen as the ideal replacement for Alan...</td>\n",
       "      <td>Souness eyes summer move for Owen Newcastle bo...</td>\n",
       "      <td>sport</td>\n",
       "      <td>3</td>\n",
       "    </tr>\n",
       "    <tr>\n",
       "      <th>2</th>\n",
       "      <td>2</td>\n",
       "      <td>Set your television to wow</td>\n",
       "      <td>Television started off as a magical blurry ima...</td>\n",
       "      <td>After years of buzz about high-definition TV (...</td>\n",
       "      <td>Set your television to wow Television started ...</td>\n",
       "      <td>tech</td>\n",
       "      <td>4</td>\n",
       "    </tr>\n",
       "    <tr>\n",
       "      <th>3</th>\n",
       "      <td>3</td>\n",
       "      <td>Lib Dems target the student vote</td>\n",
       "      <td>Students can decide the fate of MPs in some se...</td>\n",
       "      <td>The party says the votes of students can win i...</td>\n",
       "      <td>Lib Dems target the student vote Students can ...</td>\n",
       "      <td>politics</td>\n",
       "      <td>2</td>\n",
       "    </tr>\n",
       "    <tr>\n",
       "      <th>4</th>\n",
       "      <td>4</td>\n",
       "      <td>Hewitt overcomes wobble in Sydney</td>\n",
       "      <td>Lleyton Hewitt gave himself the perfect prepar...</td>\n",
       "      <td>The defending champion brushed aside the Czech...</td>\n",
       "      <td>Hewitt overcomes wobble in Sydney Lleyton Hewi...</td>\n",
       "      <td>sport</td>\n",
       "      <td>3</td>\n",
       "    </tr>\n",
       "  </tbody>\n",
       "</table>\n",
       "</div>"
      ],
      "text/plain": [
       "   Unnamed: 0                              Title  \\\n",
       "0           0    Farrell due to make US TV debut   \n",
       "1           1  Souness eyes summer move for Owen   \n",
       "2           2         Set your television to wow   \n",
       "3           3   Lib Dems target the student vote   \n",
       "4           4  Hewitt overcomes wobble in Sydney   \n",
       "\n",
       "                                            Headline  \\\n",
       "0  Actor Colin Farrell is to make his debut on US...   \n",
       "1  Newcastle boss Graeme Souness is lining up a s...   \n",
       "2  Television started off as a magical blurry ima...   \n",
       "3  Students can decide the fate of MPs in some se...   \n",
       "4  Lleyton Hewitt gave himself the perfect prepar...   \n",
       "\n",
       "                                                Body  \\\n",
       "0  The film star, who recently played the title r...   \n",
       "1  He sees Owen as the ideal replacement for Alan...   \n",
       "2  After years of buzz about high-definition TV (...   \n",
       "3  The party says the votes of students can win i...   \n",
       "4  The defending champion brushed aside the Czech...   \n",
       "\n",
       "                                            Combined          Label  N-labels  \n",
       "0  Farrell due to make US TV debut Actor Colin Fa...  entertainment         1  \n",
       "1  Souness eyes summer move for Owen Newcastle bo...          sport         3  \n",
       "2  Set your television to wow Television started ...           tech         4  \n",
       "3  Lib Dems target the student vote Students can ...       politics         2  \n",
       "4  Hewitt overcomes wobble in Sydney Lleyton Hewi...          sport         3  "
      ]
     },
     "metadata": {},
     "execution_count": 89
    }
   ],
   "metadata": {}
  },
  {
   "cell_type": "code",
   "execution_count": 27,
   "source": [],
   "outputs": [],
   "metadata": {}
  },
  {
   "cell_type": "code",
   "execution_count": 22,
   "source": [
    "# Applying Count Vectorizer\r\n",
    "cv = CountVectorizer()\r\n",
    "# Complete Corpus\r\n",
    "cvdata = cv.fit_transform(data['Combined'])\r\n"
   ],
   "outputs": [],
   "metadata": {}
  },
  {
   "cell_type": "code",
   "execution_count": 90,
   "source": [
    "complete = cv_class_wise(data)\r\n",
    "cv_business = cv_class_wise(business)\r\n",
    "cv_entertainment = cv_class_wise(entertainment)\r\n",
    "cv_politics = cv_class_wise(politics)\r\n",
    "cv_sport = cv_class_wise(sport)\r\n",
    "cv_tech = cv_class_wise(tech)"
   ],
   "outputs": [],
   "metadata": {}
  },
  {
   "cell_type": "code",
   "execution_count": 69,
   "source": [
    "complete['Number of 1s']"
   ],
   "outputs": [
    {
     "output_type": "execute_result",
     "data": {
      "text/plain": [
       "319923"
      ]
     },
     "metadata": {},
     "execution_count": 69
    }
   ],
   "metadata": {}
  },
  {
   "cell_type": "code",
   "execution_count": null,
   "source": [],
   "outputs": [],
   "metadata": {}
  },
  {
   "cell_type": "code",
   "execution_count": 91,
   "source": [
    "# cv_business\r\n",
    "cv_entertainment\r\n"
   ],
   "outputs": [
    {
     "output_type": "execute_result",
     "data": {
      "text/plain": [
       "{'Number of 0s': 4439292,\n",
       " 'Number of 1s': 51019,\n",
       " 'Per of 0s': '0.9845',\n",
       " 'Per of 1s': '0.01131'}"
      ]
     },
     "metadata": {},
     "execution_count": 91
    }
   ],
   "metadata": {}
  },
  {
   "cell_type": "code",
   "execution_count": 47,
   "source": [
    "cv_business['Number of Zeros'].sum(axis=0)"
   ],
   "outputs": [
    {
     "output_type": "execute_result",
     "data": {
      "text/plain": [
       "5967887"
      ]
     },
     "metadata": {},
     "execution_count": 47
    }
   ],
   "metadata": {}
  },
  {
   "cell_type": "code",
   "execution_count": 12,
   "source": [
    "# Splitting the dataset\r\n",
    "X_train, X_test, y_train, y_test = train_test_split(cvdata, data['N-labels'], test_size = 0.2, random_state = None)"
   ],
   "outputs": [],
   "metadata": {}
  },
  {
   "cell_type": "code",
   "execution_count": 23,
   "source": [
    "# Creating a Dataframe of the Vocab Count\r\n",
    "vocab_count = pd.DataFrame.from_dict(cv.vocabulary_, orient='index', columns=[\"Count\"])"
   ],
   "outputs": [],
   "metadata": {}
  },
  {
   "cell_type": "code",
   "execution_count": 28,
   "source": [
    "vocab_count['Count'].sum(axis=0)"
   ],
   "outputs": [
    {
     "output_type": "execute_result",
     "data": {
      "text/plain": [
       "437414253"
      ]
     },
     "metadata": {},
     "execution_count": 28
    }
   ],
   "metadata": {}
  },
  {
   "cell_type": "code",
   "execution_count": 92,
   "source": [
    "# Applying MNB Model\r\n",
    "def multinomial_model(X_train, X_test, y_train, y_test, smoothing_value=1):\r\n",
    "    mnb = MultinomialNB(alpha=smoothing_value)\r\n",
    "    mnb.fit(X_train, y_train)\r\n",
    "    y_pred = mnb.predict(X_test)\r\n",
    "    return y_pred\r\n",
    "\r\n",
    "def report(y_pred, name= \"MultinomialNB\", t=1, smoothing_value = 1):\r\n",
    "    print(\"*****\" *10)\r\n",
    "    print(f\"{name}, Try {t} \")\r\n",
    "    print(\"*****\" *10)\r\n",
    "    print(f\"Smoothing Value: {smoothing_value}\")\r\n",
    "    print(\"-----\" *10)\r\n",
    "    print(\"Confusion Matrix\")\r\n",
    "    print(\"-----\" *10)\r\n",
    "    print(confusion_matrix(y_test, y_pred))\r\n",
    "    print(\"-----\" *10)\r\n",
    "    print(\"(c) Classification Report\")\r\n",
    "    print(\"-----\" *10)\r\n",
    "    print(classification_report(y_test, y_pred, target_names=['business', 'entertainment', 'politics', 'sport', 'tech']))\r\n",
    "    print(\"-----\" *10)\r\n",
    "    print(\"(d) Accuracy, Macro F1 and Weighted F1 Score\")\r\n",
    "    print(\"-----\" *10)\r\n",
    "    print(f\"Accuracy Score: {accuracy_score(y_test, y_pred):.4}\")\r\n",
    "    print(f\"Macro F1 Score: {f1_score(y_test, y_pred, average = 'macro'):.4}\")\r\n",
    "    print(f\"Weighted F1 Score: {f1_score(y_test, y_pred, average = 'weighted'):.4}\")\r\n",
    "    print(\"-----\" *10)\r\n",
    "    print(\"(e) Prior Probablities\")\r\n",
    "    print(\"-----\" *10)\r\n",
    "    print(\"Sports: 0.229\")\r\n",
    "    print(\"Business: 0.229\")\r\n",
    "    print(\"Politics: 0.187 \")\r\n",
    "    print(\"Tech: 0.180\")\r\n",
    "    print(\"Entertainment: 0.173 \")\r\n",
    "    print(\"-----\" *10)\r\n",
    "    print(f\"(f) Size of the vocabulary: {len(cv.vocabulary_)}\")\r\n",
    "\r\n",
    "    print(f\"(h) Total Number of Word Tokens: {sum(vocab_count['Count'])}\")\r\n",
    "    print(\"-----\" *10)\r\n",
    "    print(f\"(i) Number and Percentage of 0's and 1's for each class\")    \r\n",
    "    print(\"-----\" *10)\r\n",
    "    print(f'Business: {cv_business}')\r\n",
    "    print(f'Entertainment: {cv_entertainment}')\r\n",
    "    print(f'Politics: {cv_politics}')\r\n",
    "    print(f'Sport: {cv_sport}')\r\n",
    "    print(f'Tech: {cv_tech}')\r\n",
    "    print(\"-----\" *10)\r\n",
    "    print(f\"(j) Number and Percentage of 0's and 1's in the Corpus\")\r\n",
    "    print(\"-----\" *10)\r\n",
    "    print(f\"Number of 0 Words: {complete['Number of 0s']}\")\r\n",
    "    print(f\"Percentage of 0 Words: {complete['Per of 0s']}\")\r\n",
    "    print(\"-----\" *10)\r\n",
    "    print(f\"Number of 1 Words: {complete['Number of 1s']}\")\r\n",
    "    print(f\"Number of 1 Words: {complete['Per of 1s']}\")\r\n",
    "    \r\n",
    "    # print(f\"Percentage of 0's in the Corpus: {complete_corpus['Per of Zeros'].sum(axis = 0)/2225:.4}\")\r\n",
    "    \r\n",
    "    # print(f\"Number of 1's in the Corpus: {complete_corpus['Number of Ones'].sum(axis = 0)}\")\r\n",
    "    # print(f\"Percentage of 1's in the Corpus: {complete_corpus['Per of Ones'].sum(axis = 0)/2225:.4}\")\r\n"
   ],
   "outputs": [],
   "metadata": {}
  },
  {
   "cell_type": "code",
   "execution_count": 93,
   "source": [
    "y_pred_1 = multinomial_model(X_train, X_test, y_train, y_test, smoothing_value=1)\r\n",
    "try_1 = report(y_pred_1, \"MultinomialNB Default Values\", t = 1)"
   ],
   "outputs": [
    {
     "output_type": "stream",
     "name": "stdout",
     "text": [
      "**************************************************\n",
      "MultinomialNB Default Values, Try 1 \n",
      "**************************************************\n",
      "Smoothing Value: 1\n",
      "--------------------------------------------------\n",
      "Confusion Matrix\n",
      "--------------------------------------------------\n",
      "[[ 99   0   4   0   5]\n",
      " [  1  70   1   0   1]\n",
      " [  2   0  75   0   0]\n",
      " [  0   0   0 100   0]\n",
      " [  0   0   2   0  85]]\n",
      "--------------------------------------------------\n",
      "(c) Classification Report\n",
      "--------------------------------------------------\n",
      "               precision    recall  f1-score   support\n",
      "\n",
      "     business       0.97      0.92      0.94       108\n",
      "entertainment       1.00      0.96      0.98        73\n",
      "     politics       0.91      0.97      0.94        77\n",
      "        sport       1.00      1.00      1.00       100\n",
      "         tech       0.93      0.98      0.96        87\n",
      "\n",
      "     accuracy                           0.96       445\n",
      "    macro avg       0.96      0.97      0.96       445\n",
      " weighted avg       0.97      0.96      0.96       445\n",
      "\n",
      "--------------------------------------------------\n",
      "(d) Accuracy, Macro F1 and Weighted F1 Score\n",
      "--------------------------------------------------\n",
      "Accuracy Score: 0.964\n",
      "Macro F1 Score: 0.9641\n",
      "Weighted F1 Score: 0.9641\n",
      "--------------------------------------------------\n",
      "(e) Prior Probablities\n",
      "--------------------------------------------------\n",
      "Sports: 0.229\n",
      "Business: 0.229\n",
      "Politics: 0.187 \n",
      "Tech: 0.180\n",
      "Entertainment: 0.173 \n",
      "--------------------------------------------------\n",
      "(f) Size of the vocabulary: 29578\n",
      "(h) Total Number of Word Tokens: 437414253\n",
      "--------------------------------------------------\n",
      "(i) Number and Percentage of 0's and 1's for each class\n",
      "--------------------------------------------------\n",
      "Business: {'Number of 0s': 5967887, 'Number of 1s': 68325, 'Per of 0s': '0.9846', 'Per of 1s': '0.01127'}\n",
      "Entertainment: {'Number of 0s': 4439292, 'Number of 1s': 51019, 'Per of 0s': '0.9845', 'Per of 1s': '0.01131'}\n",
      "Politics: {'Number of 0s': 4586687, 'Number of 1s': 66039, 'Per of 0s': '0.9798', 'Per of 1s': '0.01411'}\n",
      "Sport: {'Number of 0s': 5375058, 'Number of 1s': 65406, 'Per of 0s': '0.9832', 'Per of 1s': '0.01196'}\n",
      "Tech: {'Number of 0s': 4752430, 'Number of 1s': 69134, 'Per of 0s': '0.9795', 'Per of 1s': '0.01425'}\n",
      "--------------------------------------------------\n",
      "(j) Number and Percentage of 0's and 1's in the Corpus\n",
      "--------------------------------------------------\n",
      "Number of 0 Words: 65361782\n",
      "Percentage of 0 Words: 0.9932\n",
      "--------------------------------------------------\n",
      "Number of 1 Words: 319923\n",
      "Number of 1 Words: 0.004861\n"
     ]
    }
   ],
   "metadata": {}
  },
  {
   "cell_type": "code",
   "execution_count": 95,
   "source": [
    "y_pred_2 = multinomial_model(X_train, X_test, y_train, y_test, smoothing_value=0.0001)\r\n",
    "try_2 = report(y_pred_2, \"MultinomialNB Default Values\", t=2, smoothing_value=0.0001)"
   ],
   "outputs": [
    {
     "output_type": "stream",
     "name": "stdout",
     "text": [
      "**************************************************\n",
      "MultinomialNB Default Values, Try 2 \n",
      "**************************************************\n",
      "Smoothing Value: 0.0001\n",
      "--------------------------------------------------\n",
      "Confusion Matrix\n",
      "--------------------------------------------------\n",
      "[[102   0   1   0   5]\n",
      " [  1  70   1   0   1]\n",
      " [  3   0  74   0   0]\n",
      " [  0   0   1  99   0]\n",
      " [  1   0   3   0  83]]\n",
      "--------------------------------------------------\n",
      "(c) Classification Report\n",
      "--------------------------------------------------\n",
      "               precision    recall  f1-score   support\n",
      "\n",
      "     business       0.95      0.94      0.95       108\n",
      "entertainment       1.00      0.96      0.98        73\n",
      "     politics       0.93      0.96      0.94        77\n",
      "        sport       1.00      0.99      0.99       100\n",
      "         tech       0.93      0.95      0.94        87\n",
      "\n",
      "     accuracy                           0.96       445\n",
      "    macro avg       0.96      0.96      0.96       445\n",
      " weighted avg       0.96      0.96      0.96       445\n",
      "\n",
      "--------------------------------------------------\n",
      "(d) Accuracy, Macro F1 and Weighted F1 Score\n",
      "--------------------------------------------------\n",
      "Accuracy Score: 0.9618\n",
      "Macro F1 Score: 0.9617\n",
      "Weighted F1 Score: 0.962\n",
      "--------------------------------------------------\n",
      "(e) Prior Probablities\n",
      "--------------------------------------------------\n",
      "Sports: 0.229\n",
      "Business: 0.229\n",
      "Politics: 0.187 \n",
      "Tech: 0.180\n",
      "Entertainment: 0.173 \n",
      "--------------------------------------------------\n",
      "(f) Size of the vocabulary: 29578\n",
      "(h) Total Number of Word Tokens: 437414253\n",
      "--------------------------------------------------\n",
      "(i) Number and Percentage of 0's and 1's for each class\n",
      "--------------------------------------------------\n",
      "Business: {'Number of 0s': 5967887, 'Number of 1s': 68325, 'Per of 0s': '0.9846', 'Per of 1s': '0.01127'}\n",
      "Entertainment: {'Number of 0s': 4439292, 'Number of 1s': 51019, 'Per of 0s': '0.9845', 'Per of 1s': '0.01131'}\n",
      "Politics: {'Number of 0s': 4586687, 'Number of 1s': 66039, 'Per of 0s': '0.9798', 'Per of 1s': '0.01411'}\n",
      "Sport: {'Number of 0s': 5375058, 'Number of 1s': 65406, 'Per of 0s': '0.9832', 'Per of 1s': '0.01196'}\n",
      "Tech: {'Number of 0s': 4752430, 'Number of 1s': 69134, 'Per of 0s': '0.9795', 'Per of 1s': '0.01425'}\n",
      "--------------------------------------------------\n",
      "(j) Number and Percentage of 0's and 1's in the Corpus\n",
      "--------------------------------------------------\n",
      "Number of 0 Words: 65361782\n",
      "Percentage of 0 Words: 0.9932\n",
      "--------------------------------------------------\n",
      "Number of 1 Words: 319923\n",
      "Number of 1 Words: 0.004861\n"
     ]
    }
   ],
   "metadata": {}
  },
  {
   "cell_type": "code",
   "execution_count": 96,
   "source": [
    "y_pred_3 = multinomial_model(X_train, X_test, y_train, y_test, smoothing_value=0.9)\r\n",
    "try_3 = report(y_pred_3, \"MultinomialNB Default Values\", t=3, smoothing_value=0.9)"
   ],
   "outputs": [
    {
     "output_type": "stream",
     "name": "stdout",
     "text": [
      "**************************************************\n",
      "MultinomialNB Default Values, Try 3 \n",
      "**************************************************\n",
      "Smoothing Value: 0.9\n",
      "--------------------------------------------------\n",
      "Confusion Matrix\n",
      "--------------------------------------------------\n",
      "[[ 99   0   4   0   5]\n",
      " [  1  70   1   0   1]\n",
      " [  2   0  75   0   0]\n",
      " [  0   0   0 100   0]\n",
      " [  0   0   2   0  85]]\n",
      "--------------------------------------------------\n",
      "(c) Classification Report\n",
      "--------------------------------------------------\n",
      "               precision    recall  f1-score   support\n",
      "\n",
      "     business       0.97      0.92      0.94       108\n",
      "entertainment       1.00      0.96      0.98        73\n",
      "     politics       0.91      0.97      0.94        77\n",
      "        sport       1.00      1.00      1.00       100\n",
      "         tech       0.93      0.98      0.96        87\n",
      "\n",
      "     accuracy                           0.96       445\n",
      "    macro avg       0.96      0.97      0.96       445\n",
      " weighted avg       0.97      0.96      0.96       445\n",
      "\n",
      "--------------------------------------------------\n",
      "(d) Accuracy, Macro F1 and Weighted F1 Score\n",
      "--------------------------------------------------\n",
      "Accuracy Score: 0.964\n",
      "Macro F1 Score: 0.9641\n",
      "Weighted F1 Score: 0.9641\n",
      "--------------------------------------------------\n",
      "(e) Prior Probablities\n",
      "--------------------------------------------------\n",
      "Sports: 0.229\n",
      "Business: 0.229\n",
      "Politics: 0.187 \n",
      "Tech: 0.180\n",
      "Entertainment: 0.173 \n",
      "--------------------------------------------------\n",
      "(f) Size of the vocabulary: 29578\n",
      "(h) Total Number of Word Tokens: 437414253\n",
      "--------------------------------------------------\n",
      "(i) Number and Percentage of 0's and 1's for each class\n",
      "--------------------------------------------------\n",
      "Business: {'Number of 0s': 5967887, 'Number of 1s': 68325, 'Per of 0s': '0.9846', 'Per of 1s': '0.01127'}\n",
      "Entertainment: {'Number of 0s': 4439292, 'Number of 1s': 51019, 'Per of 0s': '0.9845', 'Per of 1s': '0.01131'}\n",
      "Politics: {'Number of 0s': 4586687, 'Number of 1s': 66039, 'Per of 0s': '0.9798', 'Per of 1s': '0.01411'}\n",
      "Sport: {'Number of 0s': 5375058, 'Number of 1s': 65406, 'Per of 0s': '0.9832', 'Per of 1s': '0.01196'}\n",
      "Tech: {'Number of 0s': 4752430, 'Number of 1s': 69134, 'Per of 0s': '0.9795', 'Per of 1s': '0.01425'}\n",
      "--------------------------------------------------\n",
      "(j) Number and Percentage of 0's and 1's in the Corpus\n",
      "--------------------------------------------------\n",
      "Number of 0 Words: 65361782\n",
      "Percentage of 0 Words: 0.9932\n",
      "--------------------------------------------------\n",
      "Number of 1 Words: 319923\n",
      "Number of 1 Words: 0.004861\n"
     ]
    }
   ],
   "metadata": {}
  },
  {
   "cell_type": "code",
   "execution_count": null,
   "source": [],
   "outputs": [],
   "metadata": {}
  }
 ],
 "metadata": {
  "orig_nbformat": 4,
  "language_info": {
   "name": "python",
   "version": "3.7.4",
   "mimetype": "text/x-python",
   "codemirror_mode": {
    "name": "ipython",
    "version": 3
   },
   "pygments_lexer": "ipython3",
   "nbconvert_exporter": "python",
   "file_extension": ".py"
  },
  "kernelspec": {
   "name": "python3",
   "display_name": "Python 3.7.4 64-bit"
  },
  "interpreter": {
   "hash": "04635d289a519a1410467dd0afb0db42f9184808881ca68b2eb5a687a20a5a94"
  }
 },
 "nbformat": 4,
 "nbformat_minor": 2
}