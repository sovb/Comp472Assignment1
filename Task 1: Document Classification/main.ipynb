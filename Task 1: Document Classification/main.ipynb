{
 "cells": [
  {
   "cell_type": "code",
   "execution_count": 34,
   "source": [
    "import os\r\n",
    "import pandas as pd\r\n",
    "import seaborn as sns\r\n",
    "sns.set_style('whitegrid')\r\n",
    "import matplotlib.pyplot as plt\r\n",
    "\r\n",
    "from sklearn.utils import shuffle"
   ],
   "outputs": [],
   "metadata": {}
  },
  {
   "cell_type": "code",
   "execution_count": 2,
   "source": [
    "labels = ['business', 'entertainment', 'politics', 'README.TXT', 'sport', 'tech']\r\n",
    "# files = os.listdir(\".\\BBC\\\\business\")"
   ],
   "outputs": [],
   "metadata": {}
  },
  {
   "cell_type": "code",
   "execution_count": 3,
   "source": [
    "files = os.listdir(\".\\BBC\\\\business\")"
   ],
   "outputs": [],
   "metadata": {}
  },
  {
   "cell_type": "code",
   "execution_count": 4,
   "source": [
    "# Reading the data from individual folders and saving it in a list\r\n",
    "# Extracting the Title, Headline and the body\r\n",
    "def prepare_data(folder):\r\n",
    "    titles = []\r\n",
    "    summary = []\r\n",
    "    body = []\r\n",
    "    loc = os.listdir(f\".\\BBC\\\\{folder}\")\r\n",
    "    for x in loc:\r\n",
    "        with open(f\".\\BBC\\\\{folder}\\\\{x}\") as f:\r\n",
    "            file = f.read()\r\n",
    "            file = file.split(\"\\n\")\r\n",
    "            file = list(filter(None, file))\r\n",
    "            titles.append(file[0])\r\n",
    "            summary.append(file[1])\r\n",
    "            body.append(\"\".join(file[2:]))\r\n",
    "            \r\n",
    "    return titles, summary, body\r\n",
    "\r\n"
   ],
   "outputs": [],
   "metadata": {}
  },
  {
   "cell_type": "code",
   "execution_count": 5,
   "source": [
    "# Calling the function to extract the data from the txt file and combine them\r\n",
    "business_t, business_s, business_b = prepare_data(\"business\")\r\n",
    "entertainment_t, entertainment_s, entertainment_b = prepare_data(\"entertainment\")\r\n",
    "politics_t, politics_s, politics_b = prepare_data(\"politics\")\r\n",
    "sport_t, sport_s, sport_b = prepare_data(\"sport\")\r\n",
    "tech_t, tech_s, tech_b = prepare_data(\"tech\")\r\n",
    "\r\n"
   ],
   "outputs": [],
   "metadata": {}
  },
  {
   "cell_type": "code",
   "execution_count": 6,
   "source": [
    "business_l = ['business'] * len(business_b)\r\n",
    "entertainment_l = ['entertainment'] * len(entertainment_t)\r\n",
    "politics_l = ['politics'] * len(politics_t)\r\n",
    "sport_l = ['sport'] * len(sport_t)\r\n",
    "tech_l = ['tech'] * len(tech_t)"
   ],
   "outputs": [],
   "metadata": {}
  },
  {
   "cell_type": "code",
   "execution_count": 10,
   "source": [
    "# business_t"
   ],
   "outputs": [],
   "metadata": {}
  },
  {
   "cell_type": "code",
   "execution_count": 16,
   "source": [
    "# Creating Dataframe\r\n",
    "business = pd.DataFrame(zip(business_t, business_s, business_b, business_l),columns=['Title','Headline','Body','Label'])\r\n",
    "entertainment = pd.DataFrame(zip(entertainment_t, entertainment_s, entertainment_b, entertainment_l),columns=['Title','Headline','Body','Label'])\r\n",
    "politics = pd.DataFrame(zip(politics_t, politics_s, politics_b, politics_l),columns=['Title','Headline','Body','Label'])\r\n",
    "sport = pd.DataFrame(zip(sport_t, sport_s, sport_b, sport_l),columns=['Title','Headline','Body','Label'])\r\n",
    "tech = pd.DataFrame(zip(tech_t, tech_s, tech_b, tech_l),columns=['Title','Headline','Body','Label'])\r\n",
    "\r\n"
   ],
   "outputs": [],
   "metadata": {}
  },
  {
   "cell_type": "code",
   "execution_count": 49,
   "source": [
    "# Creating a dataframe\r\n",
    "data= pd.concat([business, entertainment, politics, sport, tech])\r\n",
    "# Shuffling the data\r\n",
    "data = shuffle(data)"
   ],
   "outputs": [],
   "metadata": {}
  },
  {
   "cell_type": "code",
   "execution_count": 59,
   "source": [
    "# Saving the data so we can use it without preparing it agian and again\r\n",
    "# data.to_csv('Final_data.csv')"
   ],
   "outputs": [],
   "metadata": {}
  },
  {
   "cell_type": "code",
   "execution_count": 58,
   "source": [
    "\r\n",
    "data.head()"
   ],
   "outputs": [
    {
     "output_type": "execute_result",
     "data": {
      "text/html": [
       "<div>\n",
       "<style scoped>\n",
       "    .dataframe tbody tr th:only-of-type {\n",
       "        vertical-align: middle;\n",
       "    }\n",
       "\n",
       "    .dataframe tbody tr th {\n",
       "        vertical-align: top;\n",
       "    }\n",
       "\n",
       "    .dataframe thead th {\n",
       "        text-align: right;\n",
       "    }\n",
       "</style>\n",
       "<table border=\"1\" class=\"dataframe\">\n",
       "  <thead>\n",
       "    <tr style=\"text-align: right;\">\n",
       "      <th></th>\n",
       "      <th>Title</th>\n",
       "      <th>Headline</th>\n",
       "      <th>Body</th>\n",
       "      <th>Label</th>\n",
       "    </tr>\n",
       "  </thead>\n",
       "  <tbody>\n",
       "    <tr>\n",
       "      <th>0</th>\n",
       "      <td>Farrell due to make US TV debut</td>\n",
       "      <td>Actor Colin Farrell is to make his debut on US...</td>\n",
       "      <td>The film star, who recently played the title r...</td>\n",
       "      <td>entertainment</td>\n",
       "    </tr>\n",
       "    <tr>\n",
       "      <th>1</th>\n",
       "      <td>Souness eyes summer move for Owen</td>\n",
       "      <td>Newcastle boss Graeme Souness is lining up a s...</td>\n",
       "      <td>He sees Owen as the ideal replacement for Alan...</td>\n",
       "      <td>sport</td>\n",
       "    </tr>\n",
       "    <tr>\n",
       "      <th>2</th>\n",
       "      <td>Set your television to wow</td>\n",
       "      <td>Television started off as a magical blurry ima...</td>\n",
       "      <td>After years of buzz about high-definition TV (...</td>\n",
       "      <td>tech</td>\n",
       "    </tr>\n",
       "    <tr>\n",
       "      <th>3</th>\n",
       "      <td>Lib Dems target the student vote</td>\n",
       "      <td>Students can decide the fate of MPs in some se...</td>\n",
       "      <td>The party says the votes of students can win i...</td>\n",
       "      <td>politics</td>\n",
       "    </tr>\n",
       "    <tr>\n",
       "      <th>4</th>\n",
       "      <td>Hewitt overcomes wobble in Sydney</td>\n",
       "      <td>Lleyton Hewitt gave himself the perfect prepar...</td>\n",
       "      <td>The defending champion brushed aside the Czech...</td>\n",
       "      <td>sport</td>\n",
       "    </tr>\n",
       "  </tbody>\n",
       "</table>\n",
       "</div>"
      ],
      "text/plain": [
       "                               Title  \\\n",
       "0    Farrell due to make US TV debut   \n",
       "1  Souness eyes summer move for Owen   \n",
       "2         Set your television to wow   \n",
       "3   Lib Dems target the student vote   \n",
       "4  Hewitt overcomes wobble in Sydney   \n",
       "\n",
       "                                            Headline  \\\n",
       "0  Actor Colin Farrell is to make his debut on US...   \n",
       "1  Newcastle boss Graeme Souness is lining up a s...   \n",
       "2  Television started off as a magical blurry ima...   \n",
       "3  Students can decide the fate of MPs in some se...   \n",
       "4  Lleyton Hewitt gave himself the perfect prepar...   \n",
       "\n",
       "                                                Body          Label  \n",
       "0  The film star, who recently played the title r...  entertainment  \n",
       "1  He sees Owen as the ideal replacement for Alan...          sport  \n",
       "2  After years of buzz about high-definition TV (...           tech  \n",
       "3  The party says the votes of students can win i...       politics  \n",
       "4  The defending champion brushed aside the Czech...          sport  "
      ]
     },
     "metadata": {},
     "execution_count": 58
    }
   ],
   "metadata": {}
  },
  {
   "cell_type": "code",
   "execution_count": 46,
   "source": [
    "# Counting the number of instance for each class\r\n",
    "sns.countplot(data['Label'])"
   ],
   "outputs": [
    {
     "output_type": "stream",
     "name": "stderr",
     "text": [
      "C:\\Python37\\lib\\site-packages\\seaborn\\_decorators.py:43: FutureWarning: Pass the following variable as a keyword arg: x. From version 0.12, the only valid positional argument will be `data`, and passing other arguments without an explicit keyword will result in an error or misinterpretation.\n",
      "  FutureWarning\n"
     ]
    },
    {
     "output_type": "execute_result",
     "data": {
      "text/plain": [
       "<AxesSubplot:xlabel='Label', ylabel='count'>"
      ]
     },
     "metadata": {},
     "execution_count": 46
    },
    {
     "output_type": "display_data",
     "data": {
      "image/png": "[encoded data removed]",
      "text/plain": [
       "<Figure size 432x288 with 1 Axes>"
      ]
     },
     "metadata": {}
    }
   ],
   "metadata": {}
  },
  {
   "cell_type": "code",
   "execution_count": null,
   "source": [],
   "outputs": [],
   "metadata": {}
  }
 ],
 "metadata": {
  "orig_nbformat": 4,
  "language_info": {
   "name": "python",
   "version": "3.7.4",
   "mimetype": "text/x-python",
   "codemirror_mode": {
    "name": "ipython",
    "version": 3
   },
   "pygments_lexer": "ipython3",
   "nbconvert_exporter": "python",
   "file_extension": ".py"
  },
  "kernelspec": {
   "name": "python3",
   "display_name": "Python 3.7.4 64-bit"
  },
  "interpreter": {
   "hash": "04635d289a519a1410467dd0afb0db42f9184808881ca68b2eb5a687a20a5a94"
  }
 },
 "nbformat": 4,
 "nbformat_minor": 2
}